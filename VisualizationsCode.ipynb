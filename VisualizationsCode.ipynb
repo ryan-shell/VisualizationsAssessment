{
 "cells": [
  {
   "cell_type": "markdown",
   "source": [
    "Import the data using the API"
   ],
   "metadata": {}
  },
  {
   "cell_type": "code",
   "execution_count": 2,
   "source": [
    "import requests\r\n",
    "import pandas as pd\r\n",
    "\r\n",
    "url = \"https://api.census.gov/data/2018/abscs?get=NAME,GEO_ID,NAICS2017_LABEL,SEX,ETH_GROUP,RACE_GROUP,VET_GROUP,FIRMPDEMP&for=state:*&NAICS2017=00&key=55e66c014b79233a93d62e4de48c6b4cbae8d3fc\"\r\n",
    "#querystring = {}\r\n",
    "\r\n",
    "response = requests.request(\"GET\", url)\r\n",
    "\r\n",
    "dataJson = response.json()\r\n",
    "df = pd.DataFrame(dataJson)\r\n",
    "print(df.head(5))"
   ],
   "outputs": [
    {
     "output_type": "stream",
     "name": "stdout",
     "text": [
      "             0            1                      2    3          4  \\\n",
      "0         NAME       GEO_ID        NAICS2017_LABEL  SEX  ETH_GROUP   \n",
      "1  Mississippi  0400000US28  Total for all sectors  002        029   \n",
      "2  Mississippi  0400000US28  Total for all sectors  003        029   \n",
      "3  Mississippi  0400000US28  Total for all sectors  004        029   \n",
      "4  Mississippi  0400000US28  Total for all sectors  001        001   \n",
      "\n",
      "            5          6          7          8      9  \n",
      "0  RACE_GROUP  VET_GROUP  FIRMPDEMP  NAICS2017  state  \n",
      "1          00        003          0         00     28  \n",
      "2          00        003        466         00     28  \n",
      "3          00        003        572         00     28  \n",
      "4          30        003        926         00     28  \n"
     ]
    }
   ],
   "metadata": {}
  }
 ],
 "metadata": {
  "orig_nbformat": 4,
  "language_info": {
   "name": "python",
   "version": "3.8.8",
   "mimetype": "text/x-python",
   "codemirror_mode": {
    "name": "ipython",
    "version": 3
   },
   "pygments_lexer": "ipython3",
   "nbconvert_exporter": "python",
   "file_extension": ".py"
  },
  "kernelspec": {
   "name": "python3",
   "display_name": "Python 3.8.8 64-bit ('base': conda)"
  },
  "interpreter": {
   "hash": "c71906d4c0ff06c1ed9181d2e3653f1d379265ffcd8c22c555d9676c8d399686"
  }
 },
 "nbformat": 4,
 "nbformat_minor": 2
}