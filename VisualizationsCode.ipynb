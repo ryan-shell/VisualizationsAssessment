{
 "cells": [
  {
   "cell_type": "code",
   "execution_count": 239,
   "metadata": {},
   "outputs": [],
   "source": [
    "import pandas as pd\n",
    "import requests\n",
    "\n",
    "url = \"https://api.census.gov/data/2018/abscs?get=NAME,EMP,PAYANN,SEX,EMPSZFI,ETH_GROUP,RACE_GROUP,VET_GROUP&for=state:50,56&key=55e66c014b79233a93d62e4de48c6b4cbae8d3fc\"\n",
    "# url2 = \"https://api.census.gov/data/2018/abscb?get=NAME,BUSCHAR,EMP,PAYANN,SEX,EMPSZFI,ETH_GROUP,RACE_GROUP,VET_GROUP&for=state:50,56&key=55e66c014b79233a93d62e4de48c6b4cbae8d3fc\"\n",
    "\n",
    "response = requests.request(\"GET\", url)\n",
    "dataJson = response.json()\n",
    "df = pd.DataFrame(dataJson)\n",
    "new_header = df.iloc[0]\n",
    "df = df[1:]\n",
    "df.columns = new_header\n",
    "\n",
    "# response2 = requests.request(\"GET\", url2)\n",
    "# dataJson2 = response2.json()\n",
    "# df2 = pd.DataFrame(dataJson2)\n",
    "# new_header2 = df2.iloc[0]\n",
    "# df2 = df2[1:]\n",
    "# df2.columns = new_header2"
   ]
  },
  {
   "cell_type": "markdown",
   "metadata": {},
   "source": [
    "Import the data using the API"
   ]
  },
  {
   "cell_type": "code",
   "execution_count": 240,
   "metadata": {},
   "outputs": [],
   "source": [
    "sexCodes =[[\"Sex Category\", \"SEX\"], [\"Total\", \"001\"], [\"Female\", \"002\"], [\"Male\", \"003\"], [\"Equally male-/female\", \"004\"], [\"Classifiable\", \"096\"], [\"Unclassifiable\", \"098\"]]\n",
    "dfSex = pd.DataFrame(sexCodes)\n",
    "new_headerSex = dfSex.iloc[0]\n",
    "dfSex = dfSex[1:]\n",
    "dfSex.columns = new_headerSex"
   ]
  },
  {
   "cell_type": "code",
   "execution_count": 241,
   "metadata": {},
   "outputs": [],
   "source": [
    "ethCodes = [['Ethnic Category', 'ETH_GROUP'], ['Total', '001'], ['Hispanic', '020'], ['Equally Hispanic/non-Hispanic', '028'], ['Non-Hispanic', '029'], ['Classiviable', '096'], ['Unclassibiable', '098']]\n",
    "dfEth = pd.DataFrame(ethCodes)\n",
    "new_headerEth = dfEth.iloc[0]\n",
    "dfEth = dfEth[1:]\n",
    "dfEth.columns = new_headerEth"
   ]
  },
  {
   "cell_type": "code",
   "execution_count": 242,
   "metadata": {},
   "outputs": [],
   "source": [
    "secCodes = [['Company Characteristic', 'BUSCHAR'], ['All firms', 'A1'], ['Federal Government', 'IB'], ['IC', 'State'], ['Other Businesses', 'ID01'], ['Other Organizations', 'ID02'], ['Individuals', 'IE'], ['Total Reporting', 'IF'], ['Items Not Reported', 'IG']]\n",
    "dfSec = pd.DataFrame(secCodes)\n",
    "new_headerSec = dfSec.iloc[0]\n",
    "dfSec = dfSec[1:]\n",
    "dfSec.columns = new_headerSec"
   ]
  },
  {
   "cell_type": "code",
   "execution_count": 243,
   "metadata": {},
   "outputs": [],
   "source": [
    "raceCodes = [['Race Category','RACE_GROUP'], ['Total','00'], ['White','30'], ['Black or African American','40'], ['American Indian and Alaska Native','50'], ['Asian','60'], ['Native Hawaiian and Other Pacific Islander'], ['Minority','90'], ['Equally minority/nonminority','91'], ['Nonminority','92'], ['Classifiable','96'], ['Unclassifiable','98']]\n",
    "dfRace = pd.DataFrame(raceCodes)\n",
    "new_headerRace = dfRace.iloc[0]\n",
    "dfRace = dfRace[1:]\n",
    "dfRace.columns = new_headerRace"
   ]
  },
  {
   "cell_type": "code",
   "execution_count": 244,
   "metadata": {},
   "outputs": [],
   "source": [
    "veteranCodes = [[\"Veteran Category\", \"VET_GROUP\"], [\"Total\", \"001\"], [\"Veteran\", \"002\"], [\"Equally veteran/nonveteran\", \"003\"], [\"Nonveteran\", \"004\"], [\"Classifiable\", \"096\"], [\"Unclassifiable\", \"098\"]]\n",
    "dfVet = pd.DataFrame(veteranCodes)\n",
    "new_headerVet = dfVet.iloc[0]\n",
    "dfVet = dfVet[1:]\n",
    "dfVet.columns = new_headerVet"
   ]
  },
  {
   "cell_type": "code",
   "execution_count": 245,
   "metadata": {},
   "outputs": [],
   "source": [
    "empNumCodes =[[\"Num Employees\", \"EMPSZFI\"], [\"All Firms\", \"001\"], [\"Firms with No Employees\", \"611\"], [\"Firms with 1-4 Employees\", \"612\"], [\"Firms with 5-9 Employees\", \"620\"], [\"Firms with 10-19 Employees\", \"630\"], [\"Firms with 20-49 Employees\", \"641\"], [\"Firms with 50-99 Employees\", \"642\"], [\"Firms with 100-249 Employees\", \"651\"], [\"Firms with 250-499\", \"652\"], [\"Firms with 500+ Employees\", \"657\"]]\n",
    "dfNum = pd.DataFrame(empNumCodes)\n",
    "new_headerNum = dfNum.iloc[0]\n",
    "dfNum = dfNum[1:]\n",
    "dfNum.columns = new_headerNum"
   ]
  },
  {
   "cell_type": "code",
   "execution_count": 246,
   "metadata": {},
   "outputs": [],
   "source": [
    "# dfMerged2 = df2.merge(dfSex, how = \"inner\", on = \"SEX\")\n",
    "# dfMerged2 = dfMerged2.merge(dfVet, how = \"inner\", on = \"VET_GROUP\")\n",
    "# dfMerged2 = dfMerged2.merge(dfEth, how = \"inner\", on = \"ETH_GROUP\")\n",
    "# dfMerged2 = dfMerged2.merge(dfSec, how = \"inner\", on = \"BUSCHAR\")\n",
    "# dfMerged2 = dfMerged2.merge(dfRace, how = \"inner\", on = \"RACE_GROUP\")\n",
    "# dfMerged2 = dfMerged2.merge(dfNum, how = \"inner\", on = \"EMPSZFI\")\n",
    "# print(dfMerged2.head(5))"
   ]
  },
  {
   "cell_type": "code",
   "execution_count": 247,
   "metadata": {},
   "outputs": [
    {
     "name": "stdout",
     "output_type": "stream",
     "text": [
      "0     NAME EMP PAYANN  SEX EMPSZFI ETH_GROUP RACE_GROUP VET_GROUP state  \\\n",
      "0  Vermont   0      0  003     620       028         00       001    50   \n",
      "1  Vermont   0      0  004     620       028         00       001    50   \n",
      "2  Wyoming   0      0  004     620       028         00       001    56   \n",
      "3  Vermont   0      0  001     620       028         00       001    50   \n",
      "4  Wyoming   0      0  001     620       028         00       001    56   \n",
      "\n",
      "0          Sex Category Veteran Category                Ethnic Category  \\\n",
      "0                  Male            Total  Equally Hispanic/non-Hispanic   \n",
      "1  Equally male-/female            Total  Equally Hispanic/non-Hispanic   \n",
      "2  Equally male-/female            Total  Equally Hispanic/non-Hispanic   \n",
      "3                 Total            Total  Equally Hispanic/non-Hispanic   \n",
      "4                 Total            Total  Equally Hispanic/non-Hispanic   \n",
      "\n",
      "0 Race Category             Num Employees  \n",
      "0         Total  Firms with 5-9 Employees  \n",
      "1         Total  Firms with 5-9 Employees  \n",
      "2         Total  Firms with 5-9 Employees  \n",
      "3         Total  Firms with 5-9 Employees  \n",
      "4         Total  Firms with 5-9 Employees  \n"
     ]
    }
   ],
   "source": [
    "dfMerged = df.merge(dfSex, how = \"inner\", on = \"SEX\")\n",
    "dfMerged = dfMerged.merge(dfVet, how = \"inner\", on = \"VET_GROUP\")\n",
    "dfMerged = dfMerged.merge(dfEth, how = \"inner\", on = \"ETH_GROUP\")\n",
    "dfMerged = dfMerged.merge(dfRace, how = \"inner\", on = \"RACE_GROUP\")\n",
    "dfMerged = dfMerged.merge(dfNum, how = \"inner\", on = \"EMPSZFI\")\n",
    "print(dfMerged.head(5))"
   ]
  }
 ],
 "metadata": {
  "interpreter": {
   "hash": "c71906d4c0ff06c1ed9181d2e3653f1d379265ffcd8c22c555d9676c8d399686"
  },
  "kernelspec": {
   "display_name": "Python 3.8.8 64-bit ('base': conda)",
   "name": "python3"
  },
  "language_info": {
   "codemirror_mode": {
    "name": "ipython",
    "version": 3
   },
   "file_extension": ".py",
   "mimetype": "text/x-python",
   "name": "python",
   "nbconvert_exporter": "python",
   "pygments_lexer": "ipython3",
   "version": "3.8.8"
  },
  "orig_nbformat": 4
 },
 "nbformat": 4,
 "nbformat_minor": 2
}
