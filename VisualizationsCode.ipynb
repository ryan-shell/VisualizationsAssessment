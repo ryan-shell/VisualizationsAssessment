{
 "cells": [
  {
   "cell_type": "code",
   "execution_count": 38,
   "source": [
    "import pandas as pd\r\n",
    "import requests\r\n",
    "import plotly.express as px\r\n",
    "\r\n",
    "url = \"https://api.census.gov/data/2018/abscs?get=NAME,EMP,PAYANN,SEX,EMPSZFI,ETH_GROUP,RACE_GROUP,VET_GROUP&for=state:50,56&key=55e66c014b79233a93d62e4de48c6b4cbae8d3fc\"\r\n",
    "# url2 = \"https://api.census.gov/data/2018/abscb?get=NAME,BUSCHAR,EMP,PAYANN,SEX,EMPSZFI,ETH_GROUP,RACE_GROUP,VET_GROUP&for=state:50,56&key=55e66c014b79233a93d62e4de48c6b4cbae8d3fc\"\r\n",
    "\r\n",
    "response = requests.request(\"GET\", url)\r\n",
    "dataJson = response.json()\r\n",
    "df = pd.DataFrame(dataJson)\r\n",
    "new_header = df.iloc[0]\r\n",
    "df = df[1:]\r\n",
    "df.columns = new_header\r\n",
    "\r\n",
    "# response2 = requests.request(\"GET\", url2)\r\n",
    "# dataJson2 = response2.json()\r\n",
    "# df2 = pd.DataFrame(dataJson2)\r\n",
    "# new_header2 = df2.iloc[0]\r\n",
    "# df2 = df2[1:]\r\n",
    "# df2.columns = new_header2"
   ],
   "outputs": [
    {
     "output_type": "error",
     "ename": "ModuleNotFoundError",
     "evalue": "No module named 'plotly'",
     "traceback": [
      "\u001b[1;31m---------------------------------------------------------------------------\u001b[0m",
      "\u001b[1;31mModuleNotFoundError\u001b[0m                       Traceback (most recent call last)",
      "\u001b[1;32m<ipython-input-38-cd08e6bd58e3>\u001b[0m in \u001b[0;36m<module>\u001b[1;34m\u001b[0m\n\u001b[0;32m      1\u001b[0m \u001b[1;32mimport\u001b[0m \u001b[0mpandas\u001b[0m \u001b[1;32mas\u001b[0m \u001b[0mpd\u001b[0m\u001b[1;33m\u001b[0m\u001b[1;33m\u001b[0m\u001b[0m\n\u001b[0;32m      2\u001b[0m \u001b[1;32mimport\u001b[0m \u001b[0mrequests\u001b[0m\u001b[1;33m\u001b[0m\u001b[1;33m\u001b[0m\u001b[0m\n\u001b[1;32m----> 3\u001b[1;33m \u001b[1;32mimport\u001b[0m \u001b[0mplotly\u001b[0m\u001b[1;33m.\u001b[0m\u001b[0mexpress\u001b[0m \u001b[1;32mas\u001b[0m \u001b[0mpx\u001b[0m\u001b[1;33m\u001b[0m\u001b[1;33m\u001b[0m\u001b[0m\n\u001b[0m\u001b[0;32m      4\u001b[0m \u001b[1;33m\u001b[0m\u001b[0m\n\u001b[0;32m      5\u001b[0m \u001b[0murl\u001b[0m \u001b[1;33m=\u001b[0m \u001b[1;34m\"https://api.census.gov/data/2018/abscs?get=NAME,EMP,PAYANN,SEX,EMPSZFI,ETH_GROUP,RACE_GROUP,VET_GROUP&for=state:50,56&key=55e66c014b79233a93d62e4de48c6b4cbae8d3fc\"\u001b[0m\u001b[1;33m\u001b[0m\u001b[1;33m\u001b[0m\u001b[0m\n",
      "\u001b[1;31mModuleNotFoundError\u001b[0m: No module named 'plotly'"
     ]
    }
   ],
   "metadata": {}
  },
  {
   "cell_type": "markdown",
   "source": [
    "Import the data using the API"
   ],
   "metadata": {}
  },
  {
   "cell_type": "code",
   "execution_count": null,
   "source": [
    "sexCodes =[[\"Sex Category\", \"SEX\"], [\"Total\", \"001\"], [\"Female\", \"002\"], [\"Male\", \"003\"], [\"Equally male-/female\", \"004\"], [\"Classifiable\", \"096\"], [\"Unclassifiable\", \"098\"]]\r\n",
    "dfSex = pd.DataFrame(sexCodes)\r\n",
    "new_headerSex = dfSex.iloc[0]\r\n",
    "dfSex = dfSex[1:]\r\n",
    "dfSex.columns = new_headerSex"
   ],
   "outputs": [],
   "metadata": {}
  },
  {
   "cell_type": "code",
   "execution_count": null,
   "source": [
    "ethCodes = [['Ethnic Category', 'ETH_GROUP'], ['Total', '001'], ['Hispanic', '020'], ['Equally Hispanic/non-Hispanic', '028'], ['Non-Hispanic', '029'], ['Classiviable', '096'], ['Unclassibiable', '098']]\r\n",
    "dfEth = pd.DataFrame(ethCodes)\r\n",
    "new_headerEth = dfEth.iloc[0]\r\n",
    "dfEth = dfEth[1:]\r\n",
    "dfEth.columns = new_headerEth"
   ],
   "outputs": [],
   "metadata": {}
  },
  {
   "cell_type": "code",
   "execution_count": null,
   "source": [
    "secCodes = [['Company Characteristic', 'BUSCHAR'], ['All firms', 'A1'], ['Federal Government', 'IB'], ['IC', 'State'], ['Other Businesses', 'ID01'], ['Other Organizations', 'ID02'], ['Individuals', 'IE'], ['Total Reporting', 'IF'], ['Items Not Reported', 'IG']]\r\n",
    "dfSec = pd.DataFrame(secCodes)\r\n",
    "new_headerSec = dfSec.iloc[0]\r\n",
    "dfSec = dfSec[1:]\r\n",
    "dfSec.columns = new_headerSec"
   ],
   "outputs": [],
   "metadata": {}
  },
  {
   "cell_type": "code",
   "execution_count": null,
   "source": [
    "raceCodes = [['Race Category','RACE_GROUP'], ['Total','00'], ['White','30'], ['Black or African American','40'], ['American Indian and Alaska Native','50'], ['Asian','60'], ['Native Hawaiian and Other Pacific Islander'], ['Minority','90'], ['Equally minority/nonminority','91'], ['Nonminority','92'], ['Classifiable','96'], ['Unclassifiable','98']]\r\n",
    "dfRace = pd.DataFrame(raceCodes)\r\n",
    "new_headerRace = dfRace.iloc[0]\r\n",
    "dfRace = dfRace[1:]\r\n",
    "dfRace.columns = new_headerRace"
   ],
   "outputs": [],
   "metadata": {}
  },
  {
   "cell_type": "code",
   "execution_count": null,
   "source": [
    "veteranCodes = [[\"Veteran Category\", \"VET_GROUP\"], [\"Total\", \"001\"], [\"Veteran\", \"002\"], [\"Equally veteran/nonveteran\", \"003\"], [\"Nonveteran\", \"004\"], [\"Classifiable\", \"096\"], [\"Unclassifiable\", \"098\"]]\r\n",
    "dfVet = pd.DataFrame(veteranCodes)\r\n",
    "new_headerVet = dfVet.iloc[0]\r\n",
    "dfVet = dfVet[1:]\r\n",
    "dfVet.columns = new_headerVet"
   ],
   "outputs": [],
   "metadata": {}
  },
  {
   "cell_type": "code",
   "execution_count": null,
   "source": [
    "empNumCodes =[[\"Num Employees\", \"EMPSZFI\"], [\"All Firms\", \"001\"], [\"Firms with No Employees\", \"611\"], [\"Firms with 1-4 Employees\", \"612\"], [\"Firms with 5-9 Employees\", \"620\"], [\"Firms with 10-19 Employees\", \"630\"], [\"Firms with 20-49 Employees\", \"641\"], [\"Firms with 50-99 Employees\", \"642\"], [\"Firms with 100-249 Employees\", \"651\"], [\"Firms with 250-499\", \"652\"], [\"Firms with 500+ Employees\", \"657\"]]\r\n",
    "dfNum = pd.DataFrame(empNumCodes)\r\n",
    "new_headerNum = dfNum.iloc[0]\r\n",
    "dfNum = dfNum[1:]\r\n",
    "dfNum.columns = new_headerNum"
   ],
   "outputs": [],
   "metadata": {}
  },
  {
   "cell_type": "code",
   "execution_count": null,
   "source": [
    "# dfMerged2 = df2.merge(dfSex, how = \"inner\", on = \"SEX\")\r\n",
    "# dfMerged2 = dfMerged2.merge(dfVet, how = \"inner\", on = \"VET_GROUP\")\r\n",
    "# dfMerged2 = dfMerged2.merge(dfEth, how = \"inner\", on = \"ETH_GROUP\")\r\n",
    "# dfMerged2 = dfMerged2.merge(dfSec, how = \"inner\", on = \"BUSCHAR\")\r\n",
    "# dfMerged2 = dfMerged2.merge(dfRace, how = \"inner\", on = \"RACE_GROUP\")\r\n",
    "# dfMerged2 = dfMerged2.merge(dfNum, how = \"inner\", on = \"EMPSZFI\")\r\n",
    "# print(dfMerged2.head(5))"
   ],
   "outputs": [],
   "metadata": {}
  },
  {
   "cell_type": "code",
   "execution_count": null,
   "source": [
    "dfMerged = df.merge(dfSex, how = \"inner\", on = \"SEX\")\r\n",
    "dfMerged = dfMerged.merge(dfVet, how = \"inner\", on = \"VET_GROUP\")\r\n",
    "dfMerged = dfMerged.merge(dfEth, how = \"inner\", on = \"ETH_GROUP\")\r\n",
    "dfMerged = dfMerged.merge(dfRace, how = \"inner\", on = \"RACE_GROUP\")\r\n",
    "dfMerged = dfMerged.merge(dfNum, how = \"inner\", on = \"EMPSZFI\")\r\n",
    "print(dfMerged.head(5))"
   ],
   "outputs": [
    {
     "output_type": "stream",
     "name": "stdout",
     "text": [
      "0     NAME EMP PAYANN  SEX EMPSZFI ETH_GROUP RACE_GROUP VET_GROUP state  \\\n",
      "0  Vermont   0      0  003     001       028         00       001    50   \n",
      "1  Wyoming   0      0  003     001       028         00       001    56   \n",
      "2  Vermont   0      0  004     001       028         00       001    50   \n",
      "3  Wyoming   0      0  004     001       028         00       001    56   \n",
      "4  Vermont   0      0  001     001       028         00       001    50   \n",
      "\n",
      "0          Sex Category Veteran Category                Ethnic Category  \\\n",
      "0                  Male            Total  Equally Hispanic/non-Hispanic   \n",
      "1                  Male            Total  Equally Hispanic/non-Hispanic   \n",
      "2  Equally male-/female            Total  Equally Hispanic/non-Hispanic   \n",
      "3  Equally male-/female            Total  Equally Hispanic/non-Hispanic   \n",
      "4                 Total            Total  Equally Hispanic/non-Hispanic   \n",
      "\n",
      "0 Race Category Num Employees  \n",
      "0         Total     All Firms  \n",
      "1         Total     All Firms  \n",
      "2         Total     All Firms  \n",
      "3         Total     All Firms  \n",
      "4         Total     All Firms  \n"
     ]
    }
   ],
   "metadata": {}
  },
  {
   "cell_type": "code",
   "execution_count": null,
   "source": [
    "dfMergedSex = dfMerged[dfMerged[\"Sex Category\"] != \"Classifiable\"]\r\n",
    "dfMergedSex = dfMergedSex[dfMergedSex[\"Sex Category\"] != \"Unclassifiable\"]\r\n",
    "dfMergedSex = dfMergedSex[dfMergedSex[\"Sex Category\"] != \"Total\"]\r\n",
    "dfMergedSex = dfMergedSex[dfMergedSex[\"Sex Category\"] != \"Equally male-/female\"]\r\n",
    "# print(dfMergedSex.head(5))\r\n",
    "\r\n",
    "dfMergedVet = dfMerged[dfMerged[\"Veteran Category\"] != \"Classifiable\"]\r\n",
    "dfMergedVet = dfMergedVet[dfMergedVet[\"Veteran Category\"] != \"Unclassifiable\"]\r\n",
    "dfMergedVet = dfMergedVet[dfMergedVet[\"Veteran Category\"] != \"Total\"]\r\n",
    "dfMergedVet = dfMergedVet[dfMergedVet[\"Veteran Category\"] != \"Equally veteran/nonveteran\"]\r\n",
    "# print(dfMergedVet.head(5))\r\n",
    "\r\n",
    "dfMergedSexVM = dfMergedSex[dfMergedSex[\"NAME\"] != \"Wyoming\"]\r\n",
    "dfMergedSexWY = dfMergedSex[dfMergedSex[\"NAME\"] != \"Vermont\"]\r\n",
    "# print(dfMergedSexVM.info())\r\n",
    "# print(dfMergedSexWY.info())\r\n",
    "\r\n",
    "dfMergedVetVM = dfMergedVet[dfMergedVet[\"NAME\"] != \"Wyoming\"]\r\n",
    "dfMergedVetWY = dfMergedVet[dfMergedVet[\"NAME\"] != \"Vermont\"]\r\n",
    "# print(dfMergedVetVM.info())\r\n",
    "# print(dfMergedVetWY.info())"
   ],
   "outputs": [],
   "metadata": {}
  },
  {
   "cell_type": "code",
   "execution_count": null,
   "source": [
    "sexGraphVM = dfMergedSexVM[\"Sex Category\"].value_counts()\r\n",
    "axSexVM = sexGraphVM.plot(title = \"Distribution of Employee Sex of Vermont\", kind = \"bar\")\r\n",
    "axSexVM.set_xlabel('Sex')\r\n",
    "axSexVM.set_ylabel('Amount')"
   ],
   "outputs": [
    {
     "output_type": "execute_result",
     "data": {
      "text/plain": [
       "Text(0, 0.5, 'Amount')"
      ]
     },
     "metadata": {},
     "execution_count": 34
    },
    {
     "output_type": "display_data",
     "data": {
      "image/png": "[encoded data removed]",
      "text/plain": [
       "<Figure size 432x288 with 1 Axes>"
      ]
     },
     "metadata": {
      "needs_background": "light"
     }
    }
   ],
   "metadata": {}
  },
  {
   "cell_type": "code",
   "execution_count": null,
   "source": [
    "sexGraphWY = dfMergedSexWY[\"Sex Category\"].value_counts()\r\n",
    "axSexWY = sexGraphWY.plot(title = \"Distribution of Employee Sex of Wyoming\", kind = \"bar\")\r\n",
    "axSexWY.set_xlabel('Sex')\r\n",
    "axSexWY.set_ylabel('Amount')"
   ],
   "outputs": [
    {
     "output_type": "execute_result",
     "data": {
      "text/plain": [
       "Text(0, 0.5, 'Amount')"
      ]
     },
     "metadata": {},
     "execution_count": 35
    },
    {
     "output_type": "display_data",
     "data": {
      "image/png": "[encoded data removed]",
      "text/plain": [
       "<Figure size 432x288 with 1 Axes>"
      ]
     },
     "metadata": {
      "needs_background": "light"
     }
    }
   ],
   "metadata": {}
  },
  {
   "cell_type": "code",
   "execution_count": null,
   "source": [
    "vetGraphVM = dfMergedVetVM[\"Veteran Category\"].value_counts()\r\n",
    "axVetVM = vetGraphVM.plot(title = \"Distribution of Employee Veteran Status of Vermont\", kind = \"bar\")\r\n",
    "axVetVM.set_xlabel('Veteran Status')\r\n",
    "axVetVM.set_ylabel('Amount')"
   ],
   "outputs": [
    {
     "output_type": "execute_result",
     "data": {
      "text/plain": [
       "Text(0, 0.5, 'Amount')"
      ]
     },
     "metadata": {},
     "execution_count": 36
    },
    {
     "output_type": "display_data",
     "data": {
      "image/png": "[encoded data removed]",
      "text/plain": [
       "<Figure size 432x288 with 1 Axes>"
      ]
     },
     "metadata": {
      "needs_background": "light"
     }
    }
   ],
   "metadata": {}
  },
  {
   "cell_type": "code",
   "execution_count": null,
   "source": [
    "vetGraphWY = dfMergedVetWY[\"Veteran Category\"].value_counts()\r\n",
    "axVetWY = vetGraphWY.plot(title = \"Distribution of Employee Veteran Status of Wyoming\", kind = \"bar\")\r\n",
    "axVetWY.set_xlabel('Veteran Status')\r\n",
    "axVetWY.set_ylabel('Amount')"
   ],
   "outputs": [
    {
     "output_type": "execute_result",
     "data": {
      "text/plain": [
       "Text(0, 0.5, 'Amount')"
      ]
     },
     "metadata": {},
     "execution_count": 37
    },
    {
     "output_type": "display_data",
     "data": {
      "image/png": "[encoded data removed]",
      "text/plain": [
       "<Figure size 432x288 with 1 Axes>"
      ]
     },
     "metadata": {
      "needs_background": "light"
     }
    }
   ],
   "metadata": {}
  },
  {
   "cell_type": "code",
   "execution_count": null,
   "source": [
    "fig = px.choropleth(locations=[\"WY\",\"VT\"], locationmode=\"USA-states\", color=[1,2], scope=\"usa\", \r\n",
    "\r\n",
    "    title=\"United States of America: Vermont vs Wyoming, Round 2: Electric Boogaloo\")\r\n",
    "\r\n",
    "fig.show()"
   ],
   "outputs": [],
   "metadata": {}
  }
 ],
 "metadata": {
  "orig_nbformat": 4,
  "language_info": {
   "name": "python",
   "version": "3.8.8",
   "mimetype": "text/x-python",
   "codemirror_mode": {
    "name": "ipython",
    "version": 3
   },
   "pygments_lexer": "ipython3",
   "nbconvert_exporter": "python",
   "file_extension": ".py"
  },
  "kernelspec": {
   "name": "python3",
   "display_name": "Python 3.8.8 64-bit ('base': conda)"
  },
  "interpreter": {
   "hash": "6861b82f4e0655d89eab34cd3812cee542df70a573e9b9ad116b8ef59470f1f9"
  }
 },
 "nbformat": 4,
 "nbformat_minor": 2
}