{
 "cells": [
  {
   "cell_type": "markdown",
   "source": [
    "Import the data using the API"
   ],
   "metadata": {}
  },
  {
   "cell_type": "code",
   "execution_count": 4,
   "source": [
    "import pandas as pd\r\n",
    "\r\n",
    "sexCodes =[[\"Category\", \"SEX\"], [\"Total\", \"001\"], [\"Female\", \"002\"], [\"Male\", \"003\"], [\"Equally male-/female\", \"004\"], [\"Classifiable\", \"096\"], [\"Unclassifiable\", \"098\"]]\r\n",
    "dfSex = pd.DataFrame(sexCodes)\r\n",
    "new_headerSex = dfSex.iloc[0]\r\n",
    "dfSex = dfSex[1:]\r\n",
    "dfSex.columns = new_headerSex"
   ],
   "outputs": [],
   "metadata": {}
  },
  {
   "cell_type": "code",
   "execution_count": 5,
   "source": [
    "ethCodes = [['Category', 'ETH_GROUP'], ['Total', '001'], ['Hispanic', '020'], ['Equally Hispanic/non-Hispanic', '028'], ['Non-Hispanic', '029'], ['Classiviable', '096'], ['Unclassibiable', '098']]\r\n",
    "dfEth = pd.DataFrame(ethCodes)\r\n",
    "new_headerEth = dfEth.iloc[0]\r\n",
    "dfEth = dfEth[1:]\r\n",
    "dfEth.columns = new_headerEth"
   ],
   "outputs": [],
   "metadata": {}
  },
  {
   "cell_type": "code",
   "execution_count": null,
   "source": [
    "secCodes = [['Category', 'CUST'], ['All firms', 'A1'], ['Federal Government', 'IB'], ['IC', 'State'], ['Other Businesses', 'ID01'], ['Other Organizations', 'ID02'], ['Individuals', 'IE'], ['Total Reporting', 'IF'], ['Items Not Reported', 'IG']]\r\n",
    "dfSec = pd.DataFrame(secCodes)\r\n",
    "new_headerSec = dfSec.iloc[0]\r\n",
    "dfSec = dfSec[1:]\r\n",
    "dfSec.columns = new_headerSec"
   ],
   "outputs": [],
   "metadata": {}
  },
  {
   "cell_type": "code",
   "execution_count": null,
   "source": [
    "raceCodes = [['Category','RACE'], ['Total','00'], ['White','30'], ['Black or African American','40'], ['American Indian and Alaska Native','50'], ['Asian','60'], ['Native Hawaiian and Other Pacific Islander'], ['Minority','90'], ['Equally minority/nonminority','91'], ['Nonminority','92'], ['Classifiable','96'], ['Unclassifiable','98']]\r\n",
    "dfRace = pd.DataFrame(raceCodes)\r\n",
    "new_headerRace = dfRace.iloc[0]\r\n",
    "dfRace = dfRace[1:]\r\n",
    "dfRace.columns = new_headerRace"
   ],
   "outputs": [],
   "metadata": {}
  },
  {
   "cell_type": "code",
   "execution_count": null,
   "source": [
    "veteranCodes = [[\"Veteran Category\", \"VET_GROUP\"], [\"Total\", \"001\"], [\"Veteran\", \"002\"], [\"Equally veteran/nonveteran\", \"003\"], [\"Nonveteran\", \"004\"], [\"Classifiable\", \"096\"], [\"Unclassifiable\", \"098\"]]\r\n",
    "dfVet = pd.DataFrame(veteranCodes)\r\n",
    "new_headerVet = dfVet.iloc[0]\r\n",
    "dfVet = dfVet[1:]\r\n",
    "dfVet.columns = new_headerVet"
   ],
   "outputs": [],
   "metadata": {}
  },
  {
   "cell_type": "code",
   "execution_count": null,
   "source": [
    "empNumCodes =[[\"Num Employees\", \"EMPSZFI\"], [\"All Firms\", \"001\"], [\"Firms with No Employees\", \"611\"], [\"Firms with 1-4 Employees\", \"612\"], [\"Firms with 5-9 Employees\", \"620\"], [\"Firms with 10-19 Employees\", \"630\"], [\"Firms with 20-49 Employees\", \"641\"], [\"Firms with 50-99 Employees\", \"642\"], [\"Firms with 100-249 Employees\", \"651\"], [\"Firms with 250-499\", \"652\"], [\"Firms with 500+ Employees\", \"657\"]]\r\n",
    "dfNum = pd.DataFrame(empNumCodes)\r\n",
    "new_headerNum = dfNum.iloc[0]\r\n",
    "dfNum = dfNum[1:]\r\n",
    "dfNum.columns = new_headerNum"
   ],
   "outputs": [],
   "metadata": {}
  },
  {
   "cell_type": "markdown",
   "source": [],
   "metadata": {}
  },
  {
   "cell_type": "markdown",
   "source": [],
   "metadata": {}
  },
  {
   "cell_type": "markdown",
   "source": [],
   "metadata": {}
  },
  {
   "cell_type": "markdown",
   "source": [],
   "metadata": {}
  },
  {
   "cell_type": "markdown",
   "source": [],
   "metadata": {}
  },
  {
   "cell_type": "markdown",
   "source": [],
   "metadata": {}
  },
  {
   "cell_type": "markdown",
   "source": [],
   "metadata": {}
  },
  {
   "cell_type": "markdown",
   "source": [],
   "metadata": {}
  },
  {
   "cell_type": "markdown",
   "source": [],
   "metadata": {}
  }
 ],
 "metadata": {
  "orig_nbformat": 4,
  "language_info": {
   "name": "python",
   "version": "3.8.8",
   "mimetype": "text/x-python",
   "codemirror_mode": {
    "name": "ipython",
    "version": 3
   },
   "pygments_lexer": "ipython3",
   "nbconvert_exporter": "python",
   "file_extension": ".py"
  },
  "kernelspec": {
   "name": "python3",
   "display_name": "Python 3.8.8 64-bit ('base': conda)"
  },
  "interpreter": {
   "hash": "6861b82f4e0655d89eab34cd3812cee542df70a573e9b9ad116b8ef59470f1f9"
  }
 },
 "nbformat": 4,
 "nbformat_minor": 2
}